{
 "cells": [
  {
   "cell_type": "code",
   "execution_count": 1,
   "metadata": {},
   "outputs": [],
   "source": [
    "import spacy\n",
    "from spacy.language import Language\n",
    "from spacy_langdetect import LanguageDetector"
   ]
  },
  {
   "cell_type": "code",
   "execution_count": 2,
   "metadata": {},
   "outputs": [],
   "source": [
    "@Language.factory(\"language_detector\")\n",
    "def create_language_detector(nlp, name):\n",
    "    return LanguageDetector(language_detection_function=None)"
   ]
  },
  {
   "cell_type": "code",
   "execution_count": 13,
   "metadata": {},
   "outputs": [],
   "source": [
    "multilingualtext = ['La vida es bella.', \n",
    "                    'La vie est belle.', \n",
    "                    'La vita è bella.', \n",
    "                    'Das Leben ist schön.', \n",
    "                    'A vida é bela.', \n",
    "                    '人生は美しいです。', \n",
    "                    '生活是美好的。', \n",
    "                    'Жизнь прекрасна.', \n",
    "                    'الحياة جميلة.', \n",
    "                    'ज़िंदगी खूबसूरत है।']"
   ]
  },
  {
   "cell_type": "code",
   "execution_count": 14,
   "metadata": {},
   "outputs": [
    {
     "data": {
      "text/plain": [
       "<spacy_langdetect.spacy_langdetect.LanguageDetector at 0x1ac86534320>"
      ]
     },
     "execution_count": 14,
     "metadata": {},
     "output_type": "execute_result"
    }
   ],
   "source": [
    "mult_nlp = spacy.load('xx_sent_ud_sm')\n",
    "mult_nlp.add_pipe('language_detector', last=True)"
   ]
  },
  {
   "cell_type": "markdown",
   "metadata": {},
   "source": [
    "### GoogleTrans"
   ]
  },
  {
   "cell_type": "code",
   "execution_count": 15,
   "metadata": {},
   "outputs": [],
   "source": [
    "########\n",
    "from googletrans import Translator\n",
    "translator = Translator()"
   ]
  },
  {
   "cell_type": "code",
   "execution_count": 17,
   "metadata": {},
   "outputs": [
    {
     "name": "stdout",
     "output_type": "stream",
     "text": [
      "La vida es bella. --> es\n",
      "Life is beautiful.\n",
      "La vie est belle. --> fr\n",
      "Life is beautiful.\n",
      "La vita è bella. --> it\n",
      "Life is beautiful.\n",
      "Das Leben ist schön. --> de\n",
      "Life is beautiful.\n",
      "A vida é bela. --> pt\n",
      "Life is beautiful.\n",
      "人生は美しいです。 --> ja\n",
      "Life is beautiful.\n",
      "生活是美好的。 --> zh-cn\n",
      "Life is beautiful.\n",
      "Жизнь прекрасна. --> uk\n",
      "Life is beautiful.\n",
      "الحياة جميلة. --> ar\n",
      "Life is beautiful.\n",
      "ज़िंदगी खूबसूरत है। --> hi\n",
      "Life is beautiful.\n"
     ]
    }
   ],
   "source": [
    "for sentence in multilingualtext:\n",
    "    mult_doc = mult_nlp(sentence)\n",
    "    print(sentence,\"-->\",mult_doc._.language['language'])\n",
    "    if mult_doc._.language['language'] != 'en':\n",
    "        translated = translator.translate(mult_doc.text, src=mult_doc._.language['language'], dest='en')\n",
    "        print(translated.text)\n",
    "    else:\n",
    "        print(mult_doc.text)"
   ]
  },
  {
   "cell_type": "markdown",
   "metadata": {},
   "source": [
    "### Translate"
   ]
  },
  {
   "cell_type": "code",
   "execution_count": 19,
   "metadata": {},
   "outputs": [],
   "source": [
    "from translate import Translator"
   ]
  },
  {
   "cell_type": "code",
   "execution_count": 21,
   "metadata": {},
   "outputs": [
    {
     "name": "stdout",
     "output_type": "stream",
     "text": [
      "La vida es bella. --> es\n",
      "The Keeper Of The Stars.\n",
      "La vie est belle. --> fr\n",
      "Life is good. \n",
      "La vita è bella. --> it\n",
      "Life is good.\n",
      "Das Leben ist schön. --> de\n",
      "Life is beautiful. \n",
      "A vida é bela. --> pt\n",
      "Life is beautiful.\n",
      "人生は美しいです。 --> ja\n",
      "Life is beautiful.\n",
      "生活是美好的。 --> zh-cn\n",
      "Life is beautiful.\n",
      "Жизнь прекрасна. --> uk\n",
      "Life is beautiful.\n",
      "الحياة جميلة. --> ar\n",
      "Life is beautiful? There is a God?\n",
      "ज़िंदगी खूबसूरत है। --> hi\n",
      "Life is beautiful.\n"
     ]
    }
   ],
   "source": [
    "for sentence in multilingualtext:\n",
    "    mult_doc = mult_nlp(sentence)\n",
    "    print(sentence,\"-->\",mult_doc._.language['language'])\n",
    "    if mult_doc._.language['language'] != 'en':\n",
    "        translator= Translator(from_lang= mult_doc._.language['language'],to_lang=\"en\")\n",
    "        translated = translator.translate(mult_doc.text)\n",
    "        print(translated)\n",
    "    else:\n",
    "        print(mult_doc.text)"
   ]
  },
  {
   "cell_type": "code",
   "execution_count": 10,
   "metadata": {},
   "outputs": [
    {
     "name": "stdout",
     "output_type": "stream",
     "text": [
      "es\n",
      "The Keeper Of The Stars.\n",
      "fr\n",
      "Life is good. \n",
      "it\n",
      "Life is good.\n",
      "de\n",
      "Life is beautiful. \n",
      "ja\n",
      "A vida é bela. Life is beautiful. Life is beautiful. ưизнь прекрасна.\n",
      "ar\n",
      "Life is beautiful? There is a God?\n",
      "hi\n",
      "Life is beautiful.\n"
     ]
    }
   ],
   "source": [
    "for sent in mult_doc.sents:\n",
    "    print(sent._.language['language'])\n",
    "    if sent._.language['language'] != 'en':\n",
    "        translator= Translator(from_lang= sent._.language['language'],to_lang=\"en\")\n",
    "        translated = translator.translate(sent.text)\n",
    "        print(translated)\n",
    "    else:\n",
    "        print(sent.text)"
   ]
  },
  {
   "cell_type": "code",
   "execution_count": null,
   "metadata": {},
   "outputs": [],
   "source": []
  }
 ],
 "metadata": {
  "kernelspec": {
   "display_name": "Python 3",
   "language": "python",
   "name": "python3"
  },
  "language_info": {
   "codemirror_mode": {
    "name": "ipython",
    "version": 3
   },
   "file_extension": ".py",
   "mimetype": "text/x-python",
   "name": "python",
   "nbconvert_exporter": "python",
   "pygments_lexer": "ipython3",
   "version": "3.12.8"
  }
 },
 "nbformat": 4,
 "nbformat_minor": 2
}
