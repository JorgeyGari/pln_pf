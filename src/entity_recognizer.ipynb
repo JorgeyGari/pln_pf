{
 "cells": [
  {
   "cell_type": "code",
   "execution_count": 1,
   "metadata": {},
   "outputs": [
    {
     "name": "stdout",
     "output_type": "stream",
     "text": [
      "I'm an artificial intelligence (AI) assistant, designed to provide information, answer questions, and assist with tasks. I'm a computer program that uses natural language processing (NLP) to understand and respond to human input.\n",
      "\n",
      "I can help with a wide range of topics, from general knowledge and facts to more specialized areas like science, technology, history, and more. I can also assist with tasks such as:\n",
      "\n",
      "* Providing definitions and explanations\n",
      "* Offering suggestions and recommendations\n",
      "* Helping with language translation\n",
      "* Assisting with writing and proofreading\n",
      "* Answering questions and providing information\n",
      "\n",
      "I'm constantly learning and improving my knowledge base, so the more you interact with me, the more accurate and helpful I become. How can I assist you today?\n"
     ]
    }
   ],
   "source": [
    "import requests\n",
    "import json\n",
    "\n",
    "def generate_response(model, system, prompt, url=\"http://kumo01:11434/api/generate\"):\n",
    "    data = {\n",
    "        \"model\": model,\n",
    "        \"system\": system,\n",
    "        \"prompt\": prompt,\n",
    "        \"stream\": False,\n",
    "    }\n",
    "\n",
    "    headers = {\"Content-Type\": \"application/json\"}\n",
    "\n",
    "    try:\n",
    "        response = requests.post(url, headers=headers, data=json.dumps(data))\n",
    "        if response.status_code == 200:\n",
    "            return response.json()\n",
    "        else:\n",
    "            return f\"Error: {response.status_code}, {response.text}\"\n",
    "\n",
    "    except Exception as e:\n",
    "        return f\"An error occurred: {str(e)}\"\n",
    "\n",
    "response = generate_response(\"llama3.2\", \"You are a helpful AI Assistant\", \"What are you?\")\n",
    "print(response[\"response\"])"
   ]
  },
  {
   "cell_type": "code",
   "execution_count": null,
   "metadata": {},
   "outputs": [],
   "source": [
    "from langchain.llms import Ollama"
   ]
  }
 ],
 "metadata": {
  "kernelspec": {
   "display_name": ".venv",
   "language": "python",
   "name": "python3"
  },
  "language_info": {
   "codemirror_mode": {
    "name": "ipython",
    "version": 3
   },
   "file_extension": ".py",
   "mimetype": "text/x-python",
   "name": "python",
   "nbconvert_exporter": "python",
   "pygments_lexer": "ipython3",
   "version": "3.11.9"
  }
 },
 "nbformat": 4,
 "nbformat_minor": 2
}
