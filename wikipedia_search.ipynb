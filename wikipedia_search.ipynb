{
 "cells": [
  {
   "cell_type": "markdown",
   "metadata": {},
   "source": [
    "# Investigar en Wikipedia"
   ]
  },
  {
   "cell_type": "code",
   "execution_count": 2,
   "metadata": {},
   "outputs": [],
   "source": [
    "queries = ['chocloate'] "
   ]
  },
  {
   "cell_type": "code",
   "execution_count": 3,
   "metadata": {},
   "outputs": [
    {
     "name": "stderr",
     "output_type": "stream",
     "text": [
      "/home/masteria/.shh/pln_pf/.venv/lib/python3.11/site-packages/fuzzywuzzy/fuzz.py:11: UserWarning: Using slow pure-python SequenceMatcher. Install python-Levenshtein to remove this warning\n",
      "  warnings.warn('Using slow pure-python SequenceMatcher. Install python-Levenshtein to remove this warning')\n"
     ]
    }
   ],
   "source": [
    "import wikipediaapi\n",
    "import wikipedia\n",
    "from fuzzywuzzy import process"
   ]
  },
  {
   "cell_type": "code",
   "execution_count": 4,
   "metadata": {},
   "outputs": [],
   "source": [
    "def search_wikipedia(query, language='en', top_n=5):\n",
    "    wiki = wikipediaapi.Wikipedia('MyProjectName (merlin@example.com)', language)\n",
    "    search_results = wiki.search(query)\n",
    "\n",
    "    if not search_results:\n",
    "        return f\"No results found for '{query}'.\"\n",
    "    \n",
    "    matches = process.extract(query, search_results, limit=top_n)\n",
    "    results = []\n",
    "    for title, score in matches:\n",
    "        page = wiki.page(title)\n",
    "        if page.exists():\n",
    "            results.append({\n",
    "                'title': title,\n",
    "                'summary': page.summary[:200] + '...' if len(page.summary) > 200 else  page.summary,\n",
    "                'score': score\n",
    "            }) \n",
    "\n",
    "    return results"
   ]
  },
  {
   "cell_type": "code",
   "execution_count": 5,
   "metadata": {},
   "outputs": [],
   "source": [
    "def search_wikipedia(query, top_n=5):\n",
    "    try:\n",
    "        search_results = wikipedia.search(query)\n",
    "\n",
    "        if not search_results:\n",
    "            return f\"No results found for '{query}'.\"\n",
    "        \n",
    "\n",
    "        results = []\n",
    "\n",
    "        matches = process.extract(query, search_results, limit=top_n)\n",
    "\n",
    "        for title, score in matches:\n",
    "            try:\n",
    "                page = wikipedia.page(title)\n",
    "                results.append({\n",
    "                    'title': title,\n",
    "                    'summary': page.summary[:200] + '...' if len(page.summary) > 200 else page.summary,\n",
    "                    'score': score \n",
    "                })\n",
    "            except wikipedia.DisambiguationError as e:\n",
    "                results.append({\n",
    "                    'title': title,\n",
    "                    'summary': \"Disambiguation page. Options: \" + \", \".join(e.options[:5] ) + \"...\",\n",
    "                    'score': score\n",
    "                })\n",
    "            except wikipedia.PageError:\n",
    "                results.append({\n",
    "                    'title': title,\n",
    "                    'summary': \"Page not found.\",\n",
    "                    'score': score\n",
    "                } )\n",
    "        return results\n",
    "    except Exception as e:\n",
    "        return f\"An error occurred: {e}\"\n"
   ]
  },
  {
   "cell_type": "code",
   "execution_count": 6,
   "metadata": {},
   "outputs": [
    {
     "name": "stdout",
     "output_type": "stream",
     "text": [
      "[{'title': 'Byzantine Empire', 'summary': 'The Byzantine Empire, also referred to as the Eastern Roman Empire, was the continuation of the Roman Empire centred in Constantinople during late antiquity and the Middle Ages. The eastern half of th...', 'score': 86}, {'title': 'Roman Britain', 'summary': 'Roman Britain was the territory that became the Roman province of Britannia after the Roman conquest of Britain, consisting of a large part of the island of Great Britain. The occupation lasted from A...', 'score': 86}, {'title': 'Sub-Roman Britain', 'summary': 'Sub-Roman Britain is the period of late antiquity in Great Britain between the end of Roman rule and the Anglo-Saxon settlement. The term was originally used to describe archaeological remains found i...', 'score': 86}, {'title': 'Wales in the Roman era', 'summary': 'The Roman era in the area of modern Wales began in 48 AD, with a military invasion by the imperial governor of Roman Britain. The conquest was completed by 78 AD, and Roman rule endured until the regi...', 'score': 86}, {'title': 'Succession of the Roman Empire', 'summary': 'The continuation, succession, and revival of the Roman Empire is a running theme of the history of Europe and the Mediterranean Basin. It reflects the lasting memories of power, prestige, and unity as...', 'score': 66}]\n"
     ]
    }
   ],
   "source": [
    "query = \"The Roman Empire collapsed in 731\"\n",
    "results = search_wikipedia(query)\n",
    "print(results)"
   ]
  }
 ],
 "metadata": {
  "kernelspec": {
   "display_name": ".venv",
   "language": "python",
   "name": "python3"
  },
  "language_info": {
   "codemirror_mode": {
    "name": "ipython",
    "version": 3
   },
   "file_extension": ".py",
   "mimetype": "text/x-python",
   "name": "python",
   "nbconvert_exporter": "python",
   "pygments_lexer": "ipython3",
   "version": "3.11.9"
  }
 },
 "nbformat": 4,
 "nbformat_minor": 2
}
